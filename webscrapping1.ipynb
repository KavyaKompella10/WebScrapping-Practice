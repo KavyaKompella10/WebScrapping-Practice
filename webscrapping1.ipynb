{
 "cells": [
  {
   "cell_type": "code",
   "execution_count": 78,
   "metadata": {},
   "outputs": [],
   "source": [
    "from autoscraper import AutoScraper"
   ]
  },
  {
   "cell_type": "code",
   "execution_count": 79,
   "metadata": {},
   "outputs": [],
   "source": [
    "Amzn_url=\"https://www.amazon.com/s?k=headphones\"\n",
    "wanted_list=[\"$28.49\",\"Amazon Basics Bluetooth Wireless On Ear Headphones with Microphone, 35 Hour Playtime, Foldable, One Size, Black\"]"
   ]
  },
  {
   "cell_type": "code",
   "execution_count": 80,
   "metadata": {},
   "outputs": [
    {
     "name": "stdout",
     "output_type": "stream",
     "text": [
      "['$44.98', '$13.98', '$28.49', '$38.99', '$32.99', '$39.99', 'OneOdio A70 Bluetooth Over Ear Headphones, Wireless Headphones w/ 72H Playtime, Hi-Res, 3.5mm/6.35mm Wired Audio Jack for Studio Monitor & Mixing DJ Guitar AMP, Computer Laptop PC Tablet - Black', 'AILIHEN C8 Headphones Wired, On-Ear Headphones with Microphone and Volume Control Foldable Corded Stereo 3.5mm Headset for Smartphones Chromebook Laptop Computer PC Tablets Travel(Black/Blue)', 'Amazon Basics Bluetooth Wireless On Ear Headphones with Microphone, 35 Hour Playtime, Foldable, One Size, Black', 'EUQQ Wireless Earbuds Bluetooth Headphones Sports Over-Ear Bluetooth 5.3 Ear Buds with Earhooks 120H Playtime Wireless Headphones for Workout Waterproof Bluetooth LED Power Display', 'OneOdio Wired Over Ear Headphones Studio Monitor & Mixing DJ Stereo Headsets with 50mm Neodymium Drivers and 1/4 to 3.5mm Jack for AMP Computer Recording Podcast Keyboard Guitar Laptop - Black', 'Open Ear Headphones,360-Degree Panoramic Sound, DT4.0 Without Sound Loss,Air Conduction, 48H Range,LED Display,IPX7 Waterproof, Wireless Earbuds for Meeting, Driving,Traveling']\n"
     ]
    }
   ],
   "source": [
    "scrapper=AutoScraper()\n",
    "result=scrapper.build(Amzn_url,wanted_list)\n",
    "print(result)\n"
   ]
  },
  {
   "cell_type": "code",
   "execution_count": 81,
   "metadata": {},
   "outputs": [
    {
     "data": {
      "text/plain": [
       "{'rule_jb6b': ['$179.95', '$44.98', '$28.49', '$13.98', '$32.99', '$29.99'],\n",
       " 'rule_mcsr': ['$179.95', '$44.98', '$28.49', '$13.98', '$32.99', '$29.99'],\n",
       " 'rule_62cc': ['Beats Studio Pro - Wireless Bluetooth Noise Cancelling Headphones - Personalized Spatial Audio, USB-C Lossless Audio, Apple & Android Compatibility, Up to 40 Hours Battery Life - Sandstone',\n",
       "  'OneOdio A70 Bluetooth Over Ear Headphones, Wireless Headphones w/ 72H Playtime, Hi-Res, 3.5mm/6.35mm Wired Audio Jack for Studio Monitor & Mixing DJ Guitar AMP, Computer Laptop PC Tablet - Black',\n",
       "  'Amazon Basics Bluetooth Wireless On Ear Headphones with Microphone, 35 Hour Playtime, Foldable, One Size, Black',\n",
       "  'AILIHEN C8 Headphones Wired, On-Ear Headphones with Microphone and Volume Control Foldable Corded Stereo 3.5mm Headset for Smartphones Chromebook Laptop Computer PC Tablets Travel(Black/Blue)',\n",
       "  'OneOdio Wired Over Ear Headphones Studio Monitor & Mixing DJ Stereo Headsets with 50mm Neodymium Drivers and 1/4 to 3.5mm Jack for AMP Computer Recording Podcast Keyboard Guitar Laptop - Black',\n",
       "  'Wireless Earbuds 2024 Bluetooth 5.3 Headphones, 40H Playback HiFi Stereo Ear Buds with LED Display, Noise Cancelling Earbuds, IP7 Waterproof in-Ear Earphone for iOS Andriod Sport/Workout/Running']}"
      ]
     },
     "execution_count": 81,
     "metadata": {},
     "output_type": "execute_result"
    }
   ],
   "source": [
    "scrapper.get_result_similar(Amzn_url, grouped=True)\n"
   ]
  },
  {
   "cell_type": "code",
   "execution_count": 83,
   "metadata": {},
   "outputs": [],
   "source": [
    "scrapper.set_rule_aliases({'rule_62cc':'Title','rule_mcsr':'Price'})\n",
    "scrapper.keep_rules(['rule_62cc','rule_mcsr'])\n",
    "scrapper.save('amazon_search')"
   ]
  },
  {
   "cell_type": "code",
   "execution_count": 84,
   "metadata": {},
   "outputs": [],
   "source": [
    "results=scrapper.get_result_similar('https://www.amazon.com/s?k=airpods',group_by_alias=2)"
   ]
  },
  {
   "cell_type": "code",
   "execution_count": 85,
   "metadata": {},
   "outputs": [
    {
     "data": {
      "text/plain": [
       "['Apple AirPods (2nd Generation) Wireless Ear Buds, Bluetooth Headphones with Lightning Charging Case Included, Over 24 Hours of Battery Life, Effortless Setup for iPhone',\n",
       " 'Apple AirPods Pro (2nd Generation) Wireless Ear Buds with USB-C Charging, Up to 2X More Active Noise Cancelling Bluetooth Headphones, Transparency Mode, Adaptive Audio, Personalized Spatial Audio']"
      ]
     },
     "execution_count": 85,
     "metadata": {},
     "output_type": "execute_result"
    }
   ],
   "source": [
    "results['Title']"
   ]
  },
  {
   "cell_type": "code",
   "execution_count": 86,
   "metadata": {},
   "outputs": [
    {
     "data": {
      "text/plain": [
       "['$79.99', '$189.99']"
      ]
     },
     "execution_count": 86,
     "metadata": {},
     "output_type": "execute_result"
    }
   ],
   "source": [
    "results['Price']"
   ]
  }
 ],
 "metadata": {
  "kernelspec": {
   "display_name": ".venv",
   "language": "python",
   "name": "python3"
  },
  "language_info": {
   "codemirror_mode": {
    "name": "ipython",
    "version": 3
   },
   "file_extension": ".py",
   "mimetype": "text/x-python",
   "name": "python",
   "nbconvert_exporter": "python",
   "pygments_lexer": "ipython3",
   "version": "3.9.13"
  }
 },
 "nbformat": 4,
 "nbformat_minor": 2
}
